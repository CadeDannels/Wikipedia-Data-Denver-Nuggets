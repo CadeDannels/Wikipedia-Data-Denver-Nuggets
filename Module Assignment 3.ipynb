{
 "cells": [
  {
   "cell_type": "markdown",
   "metadata": {},
   "source": [
    "# INFO 3401 – Module Assignment 3\n",
    "\n",
    "[Brian C. Keegan, Ph.D.](http://brianckeegan.com/)  \n",
    "[Assistant Professor, Department of Information Science](https://www.colorado.edu/cmci/people/information-science/brian-c-keegan)  \n",
    "University of Colorado Boulder  \n",
    "\n",
    "Copyright and distributed under an [MIT License](https://opensource.org/licenses/MIT).\n",
    "\n",
    "## Learning Objectives\n",
    "This is one of two required sub-assignments for Module Assignment 3. In this assignment we want you to analyze time series data about a Wikipedia article. \n"
   ]
  },
  {
   "cell_type": "code",
   "execution_count": 55,
   "metadata": {},
   "outputs": [],
   "source": [
    "# Our usual libraries for working with data\n",
    "import pandas as pd\n",
    "import numpy as np\n",
    "\n",
    "# Our usual libraries for visualizing data\n",
    "%matplotlib inline\n",
    "import matplotlib.pyplot as plt\n",
    "import seaborn as sb\n",
    "\n",
    "# Some new libraries for retrieving data from the web, working with time, etc.\n",
    "import requests, json\n",
    "from datetime import datetime\n",
    "from urllib.parse import unquote, quote\n",
    "from copy import deepcopy"
   ]
  },
  {
   "cell_type": "markdown",
   "metadata": {},
   "source": [
    "## Two functions to start\n",
    "\n",
    "Below are two functions that I use in my research to retrieve data about Wikipedia articles. While Module 6 on \"Structured Data\" at the end of the term will go into more detail, you already have all the knowledge from INFO 1201 and 2201 to be able to interpret what these functions are doing. That said: you do not need to edit anything about these functions and can treat them like black boxes and you can skip down to \"Step 0\" if you're genuinely uncurious.\n",
    "\n",
    "### Get the revision history for an article\n",
    "\n",
    "Wikipedia keeps track of every single change made to every single article going back to approximately 2002. This is called a revision history: [this is the revision history for the \"University of Colorado Boulder\" article](https://en.wikipedia.org/w/index.php?title=University_of_Colorado_Boulder&action=history). You could get the content from previous versions of articles if you wanted from the API (again, check back in for Module 6) but this function simply retrieves the metadata about every revision: the ID of the revision, the ID of the user, if the user left a comment, the timestamp of the change, the username, the size of the page, and a SHA1 hash which is helpful for comparing if two versions of an article are identical.\n",
    "\n",
    "I would **very** strongly caution you against trying to retrieve the complete revision histories for popular topics like \"Donald Trump\", \"Hillary Clinton\", etc. This function will work, but because these can have tens of thousands of revisions, it could take several minutes to retrieve them all."
   ]
  },
  {
   "cell_type": "code",
   "execution_count": 56,
   "metadata": {},
   "outputs": [],
   "source": [
    "def response_to_revisions(json_response):\n",
    "    if type(json_response['query']['pages']) == dict:\n",
    "        page_id = list(json_response['query']['pages'].keys())[0]\n",
    "        return json_response['query']['pages'][page_id]['revisions']\n",
    "    elif type(json_response['query']['pages']) == list:\n",
    "        if 'revisions' in json_response['query']['pages'][0]:\n",
    "            return json_response['query']['pages'][0]['revisions']\n",
    "        else:\n",
    "            return list()\n",
    "    else:\n",
    "        raise ValueError(\"There are no revisions in the JSON\")\n",
    "\n",
    "def get_all_page_revisions(page_title, endpoint='en.wikipedia.org/w/api.php', redirects=1):\n",
    "    \"\"\"Takes Wikipedia page title and returns a DataFrame of revisions\n",
    "    \n",
    "    page_title - a string with the title of the page on Wikipedia\n",
    "    endpoint - a string that points to the web address of the API.\n",
    "        This defaults to the English Wikipedia endpoint: 'en.wikipedia.org/w/api.php'\n",
    "        Changing the two letter language code will return a different language edition\n",
    "        The Wikia endpoints are slightly different, e.g. 'starwars.wikia.com/api.php'\n",
    "    redirects - a Boolean value for whether to follow redirects to another page\n",
    "        \n",
    "    Returns:\n",
    "    df - a pandas DataFrame where each row is a revision and columns correspond\n",
    "         to meta-data such as parentid, revid, sha1, size, timestamp, and user name\n",
    "    \"\"\"\n",
    "    \n",
    "    # A container to store all the revisions\n",
    "    revision_list = list()\n",
    "    \n",
    "    # Set up the query\n",
    "    query_url = \"https://{0}\".format(endpoint)\n",
    "    query_params = {}\n",
    "    query_params['action'] = 'query'\n",
    "    query_params['titles'] = page_title\n",
    "    query_params['prop'] = 'revisions'\n",
    "    query_params['rvprop'] = 'ids|userid|comment|timestamp|user|size|sha1'\n",
    "    query_params['rvlimit'] = 500\n",
    "    query_params['rvdir'] = 'newer'\n",
    "    query_params['format'] = 'json'\n",
    "    query_params['redirects'] = redirects\n",
    "    query_params['formatversion'] = 2\n",
    "    \n",
    "    # Make the query\n",
    "    json_response = requests.get(url = query_url, params = query_params).json()\n",
    "\n",
    "    # Add the temporary list to the parent list\n",
    "    revision_list += response_to_revisions(json_response)\n",
    "\n",
    "    # Loop for the rest of the revisions\n",
    "    while True:\n",
    "\n",
    "        # Newer versions of the API return paginated results this way\n",
    "        if 'continue' in json_response:\n",
    "            query_continue_params = deepcopy(query_params)\n",
    "            query_continue_params['rvcontinue'] = json_response['continue']['rvcontinue']\n",
    "            json_response = requests.get(url = query_url, params = query_continue_params).json()\n",
    "            revision_list += response_to_revisions(json_response)\n",
    "        \n",
    "        # Older versions of the API return paginated results this way\n",
    "        elif 'query-continue' in json_response:\n",
    "            query_continue_params = deepcopy(query_params)\n",
    "            query_continue_params['rvstartid'] = json_response['query-continue']['revisions']['rvstartid']\n",
    "            json_response = requests.get(url = query_url, params = query_continue_params).json()\n",
    "            revision_list += response_to_revisions(json_response)\n",
    "        \n",
    "        # If there are no more revisions, stop\n",
    "        else:\n",
    "            break\n",
    "\n",
    "    # Convert to a DataFrame\n",
    "    df = pd.DataFrame(revision_list)\n",
    "\n",
    "    # Add in some helpful fields to the DataFrame\n",
    "    df['page'] = json_response['query']['pages'][0]['title']\n",
    "    \n",
    "    return df"
   ]
  },
  {
   "cell_type": "markdown",
   "metadata": {},
   "source": [
    "### Get the pageviews for an article\n",
    "\n",
    "Wikipedia also keeps track of all the times an article was accessed, ***but only back to July 2015***. [Here are the recent page views for the \"University of Colorado Boulder\" article](https://pageviews.toolforge.org/?project=en.wikipedia.org&platform=all-access&agent=user&redirects=0&range=latest-20&pages=University_of_Colorado_Boulder). Getting all five years of data will take several minutes, so please keep that in mind, but there's no penalty for getting the pageview data for a popular topics compared to a non-popular topic."
   ]
  },
  {
   "cell_type": "code",
   "execution_count": 57,
   "metadata": {},
   "outputs": [],
   "source": [
    "def get_pageviews(page_title,endpoint='en.wikipedia.org',date_from='20150701',date_to='today'):\n",
    "    \"\"\"Takes Wikipedia page title and returns a all the various pageview records\n",
    "    \n",
    "    page_title - a string with the title of the page on Wikipedia\n",
    "    lang - a string (typically two letter ISO 639-1 code) for the language edition,\n",
    "        defaults to \"en\"\n",
    "        datefrom - a date string in a YYYYMMDD format, defaults to 20150701 (earliest date)\n",
    "        dateto - a date string in a YYYYMMDD format, defaults to today\n",
    "        \n",
    "    Returns:\n",
    "    s - a Series indexed by date with page views as values\n",
    "    \"\"\"\n",
    "    if date_to == 'today':\n",
    "        date_to = str(datetime.today().date()).replace('-','')\n",
    "        \n",
    "    quoted_page_title = quote(page_title, safe='')\n",
    "    date_from = datetime.strftime(pd.to_datetime(date_from),'%Y%m%d')\n",
    "    date_to = datetime.strftime(pd.to_datetime(date_to),'%Y%m%d')\n",
    "    \n",
    "    s = \"https://wikimedia.org/api/rest_v1/metrics/pageviews/per-article/{1}/{2}/{3}/{0}/daily/{4}/{5}\".format(quoted_page_title,endpoint,'all-access','user',date_from,date_to)\n",
    "    json_response = requests.get(s).json()\n",
    "    \n",
    "    if 'items' in json_response:\n",
    "        df = pd.DataFrame(json_response['items'])\n",
    "    else:\n",
    "        raise KeyError('There is no \"items\" key in the JSON response.')\n",
    "        \n",
    "    df = df[['timestamp','views']]\n",
    "    df['timestamp'] = pd.to_datetime(df['timestamp'],format='%Y%m%d%H')\n",
    "    s = df.set_index('timestamp')['views']\n",
    "        \n",
    "    return s"
   ]
  },
  {
   "cell_type": "markdown",
   "metadata": {},
   "source": [
    "## Step 0: Write down a research question and motivation\n",
    "\n",
    "Why are you choosing this article to analyze? What kinds of information production (revisions) and consumption (pageviews) behavior are you expecting to observe? For whom does this matter and why? Because of the limitations of the data, try to come up with questions/motivations/hypotheses for behavior in or after July 2015."
   ]
  },
  {
   "cell_type": "markdown",
   "metadata": {},
   "source": [
    "The Denver Nuggets just went on a huge run in the NBA playoffs. They unexpectedly made it all the way to the Western Conference Finals which we haven't done in a long time. Therefore, I want to see if there has been a huge increase in pageviews on the Nuggets wikipedia page due to their success. "
   ]
  },
  {
   "cell_type": "markdown",
   "metadata": {},
   "source": [
    "## Step 1: Retrieve the revision history for a single article"
   ]
  },
  {
   "cell_type": "markdown",
   "metadata": {},
   "source": [
    "### Step 1a: Use the `get_all_page_revisions` function on your article"
   ]
  },
  {
   "cell_type": "code",
   "execution_count": 58,
   "metadata": {},
   "outputs": [],
   "source": [
    "# cub_rev_df = get_all_page_revisions('University of Colorado Boulder')"
   ]
  },
  {
   "cell_type": "code",
   "execution_count": 59,
   "metadata": {},
   "outputs": [],
   "source": [
    "den_rev_df = get_all_page_revisions('Denver Nuggets')"
   ]
  },
  {
   "cell_type": "markdown",
   "metadata": {},
   "source": [
    "### Step 1b: Inspect the top and print out the number of revisions"
   ]
  },
  {
   "cell_type": "code",
   "execution_count": 60,
   "metadata": {},
   "outputs": [
    {
     "data": {
      "text/html": [
       "<div>\n",
       "<style scoped>\n",
       "    .dataframe tbody tr th:only-of-type {\n",
       "        vertical-align: middle;\n",
       "    }\n",
       "\n",
       "    .dataframe tbody tr th {\n",
       "        vertical-align: top;\n",
       "    }\n",
       "\n",
       "    .dataframe thead th {\n",
       "        text-align: right;\n",
       "    }\n",
       "</style>\n",
       "<table border=\"1\" class=\"dataframe\">\n",
       "  <thead>\n",
       "    <tr style=\"text-align: right;\">\n",
       "      <th></th>\n",
       "      <th>revid</th>\n",
       "      <th>parentid</th>\n",
       "      <th>user</th>\n",
       "      <th>userid</th>\n",
       "      <th>timestamp</th>\n",
       "      <th>size</th>\n",
       "      <th>sha1</th>\n",
       "      <th>comment</th>\n",
       "      <th>anon</th>\n",
       "      <th>page</th>\n",
       "    </tr>\n",
       "  </thead>\n",
       "  <tbody>\n",
       "    <tr>\n",
       "      <th>0</th>\n",
       "      <td>392365</td>\n",
       "      <td>0</td>\n",
       "      <td>Zoe</td>\n",
       "      <td>2376</td>\n",
       "      <td>2002-08-17T21:18:29Z</td>\n",
       "      <td>783</td>\n",
       "      <td>8f1d8e346406ff0d7eff15876cf28fb52d5246c8</td>\n",
       "      <td></td>\n",
       "      <td>NaN</td>\n",
       "      <td>Denver Nuggets</td>\n",
       "    </tr>\n",
       "    <tr>\n",
       "      <th>1</th>\n",
       "      <td>997145</td>\n",
       "      <td>392365</td>\n",
       "      <td>65.239.11.248</td>\n",
       "      <td>0</td>\n",
       "      <td>2002-10-29T13:49:12Z</td>\n",
       "      <td>794</td>\n",
       "      <td>6e729b117838cb28e928aa8914d9f7172a965d8e</td>\n",
       "      <td></td>\n",
       "      <td>True</td>\n",
       "      <td>Denver Nuggets</td>\n",
       "    </tr>\n",
       "    <tr>\n",
       "      <th>2</th>\n",
       "      <td>1211921</td>\n",
       "      <td>997145</td>\n",
       "      <td>Smith03</td>\n",
       "      <td>12429</td>\n",
       "      <td>2003-06-04T17:05:15Z</td>\n",
       "      <td>818</td>\n",
       "      <td>b4f44e711dc5d4b9989f39398b18392c351c8efc</td>\n",
       "      <td></td>\n",
       "      <td>NaN</td>\n",
       "      <td>Denver Nuggets</td>\n",
       "    </tr>\n",
       "    <tr>\n",
       "      <th>3</th>\n",
       "      <td>1211926</td>\n",
       "      <td>1211921</td>\n",
       "      <td>JustJamie820</td>\n",
       "      <td>10200</td>\n",
       "      <td>2003-07-29T03:40:04Z</td>\n",
       "      <td>800</td>\n",
       "      <td>7b0b0224243e959d62a0bb9ca2d4b8b3879daad4</td>\n",
       "      <td>The Denver Nuggets have new colours, updated e...</td>\n",
       "      <td>NaN</td>\n",
       "      <td>Denver Nuggets</td>\n",
       "    </tr>\n",
       "    <tr>\n",
       "      <th>4</th>\n",
       "      <td>1211962</td>\n",
       "      <td>1211926</td>\n",
       "      <td>Hephaestos</td>\n",
       "      <td>3628</td>\n",
       "      <td>2003-07-29T03:42:05Z</td>\n",
       "      <td>844</td>\n",
       "      <td>5094d06260906f7a4578753bfb0793a5e04005ba</td>\n",
       "      <td></td>\n",
       "      <td>NaN</td>\n",
       "      <td>Denver Nuggets</td>\n",
       "    </tr>\n",
       "  </tbody>\n",
       "</table>\n",
       "</div>"
      ],
      "text/plain": [
       "     revid  parentid           user  userid             timestamp  size  \\\n",
       "0   392365         0            Zoe    2376  2002-08-17T21:18:29Z   783   \n",
       "1   997145    392365  65.239.11.248       0  2002-10-29T13:49:12Z   794   \n",
       "2  1211921    997145        Smith03   12429  2003-06-04T17:05:15Z   818   \n",
       "3  1211926   1211921   JustJamie820   10200  2003-07-29T03:40:04Z   800   \n",
       "4  1211962   1211926     Hephaestos    3628  2003-07-29T03:42:05Z   844   \n",
       "\n",
       "                                       sha1  \\\n",
       "0  8f1d8e346406ff0d7eff15876cf28fb52d5246c8   \n",
       "1  6e729b117838cb28e928aa8914d9f7172a965d8e   \n",
       "2  b4f44e711dc5d4b9989f39398b18392c351c8efc   \n",
       "3  7b0b0224243e959d62a0bb9ca2d4b8b3879daad4   \n",
       "4  5094d06260906f7a4578753bfb0793a5e04005ba   \n",
       "\n",
       "                                             comment  anon            page  \n",
       "0                                                      NaN  Denver Nuggets  \n",
       "1                                                     True  Denver Nuggets  \n",
       "2                                                      NaN  Denver Nuggets  \n",
       "3  The Denver Nuggets have new colours, updated e...   NaN  Denver Nuggets  \n",
       "4                                                      NaN  Denver Nuggets  "
      ]
     },
     "execution_count": 60,
     "metadata": {},
     "output_type": "execute_result"
    }
   ],
   "source": [
    "den_rev_df.head()"
   ]
  },
  {
   "cell_type": "code",
   "execution_count": 61,
   "metadata": {},
   "outputs": [
    {
     "data": {
      "text/plain": [
       "(3349, 10)"
      ]
     },
     "execution_count": 61,
     "metadata": {},
     "output_type": "execute_result"
    }
   ],
   "source": [
    "den_rev_df.shape"
   ]
  },
  {
   "cell_type": "markdown",
   "metadata": {},
   "source": [
    "### Step 1c: When was the first revision made? The most recent?"
   ]
  },
  {
   "cell_type": "code",
   "execution_count": 62,
   "metadata": {},
   "outputs": [
    {
     "data": {
      "text/html": [
       "<div>\n",
       "<style scoped>\n",
       "    .dataframe tbody tr th:only-of-type {\n",
       "        vertical-align: middle;\n",
       "    }\n",
       "\n",
       "    .dataframe tbody tr th {\n",
       "        vertical-align: top;\n",
       "    }\n",
       "\n",
       "    .dataframe thead th {\n",
       "        text-align: right;\n",
       "    }\n",
       "</style>\n",
       "<table border=\"1\" class=\"dataframe\">\n",
       "  <thead>\n",
       "    <tr style=\"text-align: right;\">\n",
       "      <th></th>\n",
       "      <th>revid</th>\n",
       "      <th>parentid</th>\n",
       "      <th>user</th>\n",
       "      <th>userid</th>\n",
       "      <th>timestamp</th>\n",
       "      <th>size</th>\n",
       "      <th>sha1</th>\n",
       "      <th>comment</th>\n",
       "      <th>anon</th>\n",
       "      <th>page</th>\n",
       "    </tr>\n",
       "  </thead>\n",
       "  <tbody>\n",
       "    <tr>\n",
       "      <th>3344</th>\n",
       "      <td>982011847</td>\n",
       "      <td>981645859</td>\n",
       "      <td>98.198.4.102</td>\n",
       "      <td>0</td>\n",
       "      <td>2020-10-05T17:57:31Z</td>\n",
       "      <td>85279</td>\n",
       "      <td>92f47e1b06c407d18ba843ccf98751a111afee7b</td>\n",
       "      <td></td>\n",
       "      <td>True</td>\n",
       "      <td>Denver Nuggets</td>\n",
       "    </tr>\n",
       "    <tr>\n",
       "      <th>3345</th>\n",
       "      <td>982012952</td>\n",
       "      <td>982011847</td>\n",
       "      <td>Materialscientist</td>\n",
       "      <td>7852030</td>\n",
       "      <td>2020-10-05T18:04:38Z</td>\n",
       "      <td>85278</td>\n",
       "      <td>961db7502378fa3dd0f7bc60ec9ed419134605e0</td>\n",
       "      <td>Reverted edits by [[Special:Contributions/98.1...</td>\n",
       "      <td>NaN</td>\n",
       "      <td>Denver Nuggets</td>\n",
       "    </tr>\n",
       "    <tr>\n",
       "      <th>3346</th>\n",
       "      <td>982244779</td>\n",
       "      <td>982012952</td>\n",
       "      <td>Mandarax</td>\n",
       "      <td>191757</td>\n",
       "      <td>2020-10-07T00:11:22Z</td>\n",
       "      <td>85278</td>\n",
       "      <td>ccc34527938999869f6aecd1343a35b1d6ac1528</td>\n",
       "      <td>Correct capitalization</td>\n",
       "      <td>NaN</td>\n",
       "      <td>Denver Nuggets</td>\n",
       "    </tr>\n",
       "    <tr>\n",
       "      <th>3347</th>\n",
       "      <td>982449021</td>\n",
       "      <td>982244779</td>\n",
       "      <td>188.120.116.151</td>\n",
       "      <td>0</td>\n",
       "      <td>2020-10-08T06:28:46Z</td>\n",
       "      <td>85268</td>\n",
       "      <td>063efad205498ef67f658b5df1d06d65e747da89</td>\n",
       "      <td>/* 2015–present : Jokić era */</td>\n",
       "      <td>True</td>\n",
       "      <td>Denver Nuggets</td>\n",
       "    </tr>\n",
       "    <tr>\n",
       "      <th>3348</th>\n",
       "      <td>983068372</td>\n",
       "      <td>982449021</td>\n",
       "      <td>Dylpickle2k</td>\n",
       "      <td>40320890</td>\n",
       "      <td>2020-10-12T01:49:29Z</td>\n",
       "      <td>85191</td>\n",
       "      <td>539a499845d337c1d41625b42334eab738737e27</td>\n",
       "      <td>/* 2015–present : Jokić era */Fixed grammar an...</td>\n",
       "      <td>NaN</td>\n",
       "      <td>Denver Nuggets</td>\n",
       "    </tr>\n",
       "  </tbody>\n",
       "</table>\n",
       "</div>"
      ],
      "text/plain": [
       "          revid   parentid               user    userid             timestamp  \\\n",
       "3344  982011847  981645859       98.198.4.102         0  2020-10-05T17:57:31Z   \n",
       "3345  982012952  982011847  Materialscientist   7852030  2020-10-05T18:04:38Z   \n",
       "3346  982244779  982012952           Mandarax    191757  2020-10-07T00:11:22Z   \n",
       "3347  982449021  982244779    188.120.116.151         0  2020-10-08T06:28:46Z   \n",
       "3348  983068372  982449021        Dylpickle2k  40320890  2020-10-12T01:49:29Z   \n",
       "\n",
       "       size                                      sha1  \\\n",
       "3344  85279  92f47e1b06c407d18ba843ccf98751a111afee7b   \n",
       "3345  85278  961db7502378fa3dd0f7bc60ec9ed419134605e0   \n",
       "3346  85278  ccc34527938999869f6aecd1343a35b1d6ac1528   \n",
       "3347  85268  063efad205498ef67f658b5df1d06d65e747da89   \n",
       "3348  85191  539a499845d337c1d41625b42334eab738737e27   \n",
       "\n",
       "                                                comment  anon            page  \n",
       "3344                                                     True  Denver Nuggets  \n",
       "3345  Reverted edits by [[Special:Contributions/98.1...   NaN  Denver Nuggets  \n",
       "3346                             Correct capitalization   NaN  Denver Nuggets  \n",
       "3347                     /* 2015–present : Jokić era */  True  Denver Nuggets  \n",
       "3348  /* 2015–present : Jokić era */Fixed grammar an...   NaN  Denver Nuggets  "
      ]
     },
     "execution_count": 62,
     "metadata": {},
     "output_type": "execute_result"
    }
   ],
   "source": [
    "den_rev_df.tail()"
   ]
  },
  {
   "cell_type": "code",
   "execution_count": 63,
   "metadata": {},
   "outputs": [
    {
     "name": "stdout",
     "output_type": "stream",
     "text": [
      "The first revision was made 2002-08-17T21:18:29Z\n"
     ]
    }
   ],
   "source": [
    "print(\"The first revision was made {}\".format(den_rev_df.loc[0][\"timestamp\"]))"
   ]
  },
  {
   "cell_type": "code",
   "execution_count": 64,
   "metadata": {},
   "outputs": [
    {
     "name": "stdout",
     "output_type": "stream",
     "text": [
      "The most recent revision was made 2020-10-12T01:49:29Z\n"
     ]
    }
   ],
   "source": [
    "last = len(den_rev_df.index) - 1\n",
    "print(\"The most recent revision was made {}\".format(den_rev_df.loc[last][\"timestamp\"]))"
   ]
  },
  {
   "cell_type": "markdown",
   "metadata": {},
   "source": [
    "### Step 1d: What \"user\" made the most revisions to this article?"
   ]
  },
  {
   "cell_type": "code",
   "execution_count": 65,
   "metadata": {},
   "outputs": [
    {
     "data": {
      "text/plain": [
       "MarnetteD    214\n",
       "Name: user, dtype: int64"
      ]
     },
     "execution_count": 65,
     "metadata": {},
     "output_type": "execute_result"
    }
   ],
   "source": [
    "den_rev_df[\"user\"].value_counts().head(1)"
   ]
  },
  {
   "cell_type": "markdown",
   "metadata": {},
   "source": [
    "## Step 2: Engineer new temporal features\n",
    "\n",
    "We want to make several new columns that capture temporal behavior.\n",
    "\n",
    "### Step 2a: Convert the \"timestamp\" column from `str` to `pd.Timestamp`"
   ]
  },
  {
   "cell_type": "code",
   "execution_count": 66,
   "metadata": {},
   "outputs": [],
   "source": [
    "den_rev_df[\"timestamp\"] = pd.to_datetime(den_rev_df[\"timestamp\"])"
   ]
  },
  {
   "cell_type": "code",
   "execution_count": 67,
   "metadata": {},
   "outputs": [
    {
     "data": {
      "text/plain": [
       "datetime.date(2002, 8, 17)"
      ]
     },
     "execution_count": 67,
     "metadata": {},
     "output_type": "execute_result"
    }
   ],
   "source": [
    "den_rev_df.loc[0,\"timestamp\"].date()"
   ]
  },
  {
   "cell_type": "markdown",
   "metadata": {},
   "source": [
    "### Step 2b: Create a column \"date\" that has only the dates of the revision"
   ]
  },
  {
   "cell_type": "code",
   "execution_count": 68,
   "metadata": {},
   "outputs": [],
   "source": [
    "den_rev_df[\"date\"] = den_rev_df[\"timestamp\"].apply(lambda x:x.date())"
   ]
  },
  {
   "cell_type": "markdown",
   "metadata": {},
   "source": [
    "### Step 2c: Create a column \"weekday\" that has the day of the week of the revision"
   ]
  },
  {
   "cell_type": "code",
   "execution_count": 69,
   "metadata": {},
   "outputs": [],
   "source": [
    "den_rev_df[\"weekday\"] = den_rev_df[\"timestamp\"].apply(lambda x:x.weekday())"
   ]
  },
  {
   "cell_type": "markdown",
   "metadata": {},
   "source": [
    "### Step 2d: Create a column \"hour\" that has the hour of the revision"
   ]
  },
  {
   "cell_type": "code",
   "execution_count": 70,
   "metadata": {},
   "outputs": [],
   "source": [
    "den_rev_df[\"hour\"] = den_rev_df[\"timestamp\"].apply(lambda x:x.hour)"
   ]
  },
  {
   "cell_type": "markdown",
   "metadata": {},
   "source": [
    "### Step 2e: Create a column \"diff\" that is the change in the \"size\" since the last revision\n",
    "\n",
    "This is not a temporal variable but it will require you to use a method we discussed in the pre-class lectures."
   ]
  },
  {
   "cell_type": "code",
   "execution_count": 71,
   "metadata": {},
   "outputs": [],
   "source": [
    "den_rev_df[\"diff\"] = den_rev_df[\"size\"] - den_rev_df[\"size\"].shift(1)"
   ]
  },
  {
   "cell_type": "markdown",
   "metadata": {},
   "source": [
    "### Step 2f: Create a column \"lag\" that has the time elapsed since the previous edit\n",
    "\n",
    "Make sure this is stored as a float or an integer of a reasonable unit (minutes, hours, days, weeks, etc.) and **not as a Timedelta**."
   ]
  },
  {
   "cell_type": "code",
   "execution_count": 72,
   "metadata": {},
   "outputs": [
    {
     "data": {
      "text/plain": [
       "73.0"
      ]
     },
     "execution_count": 72,
     "metadata": {},
     "output_type": "execute_result"
    }
   ],
   "source": [
    "den_rev_df[\"lag\"] = den_rev_df[\"date\"] - den_rev_df[\"date\"].shift(1)\n",
    "den_rev_df[\"lag\"] = den_rev_df[\"lag\"].dt.days\n",
    "# documentation for .dt.days method: https://stackoverflow.com/questions/25646200/python-convert-timedelta-to-int-in-a-dataframe\n",
    "den_rev_df.loc[1,\"lag\"]"
   ]
  },
  {
   "cell_type": "markdown",
   "metadata": {},
   "source": [
    "### Step 2g: Create a column \"age\" that has the time elapsed since the first edit\n",
    "\n",
    "Make sure this is stored as a float or an integer of a reasonable unit (minutes, hours, days, weeks, etc.) and **not as a Timedelta**."
   ]
  },
  {
   "cell_type": "code",
   "execution_count": 73,
   "metadata": {},
   "outputs": [
    {
     "data": {
      "text/html": [
       "<div>\n",
       "<style scoped>\n",
       "    .dataframe tbody tr th:only-of-type {\n",
       "        vertical-align: middle;\n",
       "    }\n",
       "\n",
       "    .dataframe tbody tr th {\n",
       "        vertical-align: top;\n",
       "    }\n",
       "\n",
       "    .dataframe thead th {\n",
       "        text-align: right;\n",
       "    }\n",
       "</style>\n",
       "<table border=\"1\" class=\"dataframe\">\n",
       "  <thead>\n",
       "    <tr style=\"text-align: right;\">\n",
       "      <th></th>\n",
       "      <th>revid</th>\n",
       "      <th>parentid</th>\n",
       "      <th>user</th>\n",
       "      <th>userid</th>\n",
       "      <th>timestamp</th>\n",
       "      <th>size</th>\n",
       "      <th>sha1</th>\n",
       "      <th>comment</th>\n",
       "      <th>anon</th>\n",
       "      <th>page</th>\n",
       "      <th>date</th>\n",
       "      <th>weekday</th>\n",
       "      <th>hour</th>\n",
       "      <th>diff</th>\n",
       "      <th>lag</th>\n",
       "      <th>age</th>\n",
       "    </tr>\n",
       "  </thead>\n",
       "  <tbody>\n",
       "    <tr>\n",
       "      <th>0</th>\n",
       "      <td>392365</td>\n",
       "      <td>0</td>\n",
       "      <td>Zoe</td>\n",
       "      <td>2376</td>\n",
       "      <td>2002-08-17 21:18:29+00:00</td>\n",
       "      <td>783</td>\n",
       "      <td>8f1d8e346406ff0d7eff15876cf28fb52d5246c8</td>\n",
       "      <td></td>\n",
       "      <td>NaN</td>\n",
       "      <td>Denver Nuggets</td>\n",
       "      <td>2002-08-17</td>\n",
       "      <td>5</td>\n",
       "      <td>21</td>\n",
       "      <td>NaN</td>\n",
       "      <td>NaN</td>\n",
       "      <td>0 days</td>\n",
       "    </tr>\n",
       "    <tr>\n",
       "      <th>1</th>\n",
       "      <td>997145</td>\n",
       "      <td>392365</td>\n",
       "      <td>65.239.11.248</td>\n",
       "      <td>0</td>\n",
       "      <td>2002-10-29 13:49:12+00:00</td>\n",
       "      <td>794</td>\n",
       "      <td>6e729b117838cb28e928aa8914d9f7172a965d8e</td>\n",
       "      <td></td>\n",
       "      <td>True</td>\n",
       "      <td>Denver Nuggets</td>\n",
       "      <td>2002-10-29</td>\n",
       "      <td>1</td>\n",
       "      <td>13</td>\n",
       "      <td>11.0</td>\n",
       "      <td>73.0</td>\n",
       "      <td>73 days</td>\n",
       "    </tr>\n",
       "    <tr>\n",
       "      <th>2</th>\n",
       "      <td>1211921</td>\n",
       "      <td>997145</td>\n",
       "      <td>Smith03</td>\n",
       "      <td>12429</td>\n",
       "      <td>2003-06-04 17:05:15+00:00</td>\n",
       "      <td>818</td>\n",
       "      <td>b4f44e711dc5d4b9989f39398b18392c351c8efc</td>\n",
       "      <td></td>\n",
       "      <td>NaN</td>\n",
       "      <td>Denver Nuggets</td>\n",
       "      <td>2003-06-04</td>\n",
       "      <td>2</td>\n",
       "      <td>17</td>\n",
       "      <td>24.0</td>\n",
       "      <td>218.0</td>\n",
       "      <td>291 days</td>\n",
       "    </tr>\n",
       "    <tr>\n",
       "      <th>3</th>\n",
       "      <td>1211926</td>\n",
       "      <td>1211921</td>\n",
       "      <td>JustJamie820</td>\n",
       "      <td>10200</td>\n",
       "      <td>2003-07-29 03:40:04+00:00</td>\n",
       "      <td>800</td>\n",
       "      <td>7b0b0224243e959d62a0bb9ca2d4b8b3879daad4</td>\n",
       "      <td>The Denver Nuggets have new colours, updated e...</td>\n",
       "      <td>NaN</td>\n",
       "      <td>Denver Nuggets</td>\n",
       "      <td>2003-07-29</td>\n",
       "      <td>1</td>\n",
       "      <td>3</td>\n",
       "      <td>-18.0</td>\n",
       "      <td>55.0</td>\n",
       "      <td>346 days</td>\n",
       "    </tr>\n",
       "    <tr>\n",
       "      <th>4</th>\n",
       "      <td>1211962</td>\n",
       "      <td>1211926</td>\n",
       "      <td>Hephaestos</td>\n",
       "      <td>3628</td>\n",
       "      <td>2003-07-29 03:42:05+00:00</td>\n",
       "      <td>844</td>\n",
       "      <td>5094d06260906f7a4578753bfb0793a5e04005ba</td>\n",
       "      <td></td>\n",
       "      <td>NaN</td>\n",
       "      <td>Denver Nuggets</td>\n",
       "      <td>2003-07-29</td>\n",
       "      <td>1</td>\n",
       "      <td>3</td>\n",
       "      <td>44.0</td>\n",
       "      <td>0.0</td>\n",
       "      <td>346 days</td>\n",
       "    </tr>\n",
       "  </tbody>\n",
       "</table>\n",
       "</div>"
      ],
      "text/plain": [
       "     revid  parentid           user  userid                 timestamp  size  \\\n",
       "0   392365         0            Zoe    2376 2002-08-17 21:18:29+00:00   783   \n",
       "1   997145    392365  65.239.11.248       0 2002-10-29 13:49:12+00:00   794   \n",
       "2  1211921    997145        Smith03   12429 2003-06-04 17:05:15+00:00   818   \n",
       "3  1211926   1211921   JustJamie820   10200 2003-07-29 03:40:04+00:00   800   \n",
       "4  1211962   1211926     Hephaestos    3628 2003-07-29 03:42:05+00:00   844   \n",
       "\n",
       "                                       sha1  \\\n",
       "0  8f1d8e346406ff0d7eff15876cf28fb52d5246c8   \n",
       "1  6e729b117838cb28e928aa8914d9f7172a965d8e   \n",
       "2  b4f44e711dc5d4b9989f39398b18392c351c8efc   \n",
       "3  7b0b0224243e959d62a0bb9ca2d4b8b3879daad4   \n",
       "4  5094d06260906f7a4578753bfb0793a5e04005ba   \n",
       "\n",
       "                                             comment  anon            page  \\\n",
       "0                                                      NaN  Denver Nuggets   \n",
       "1                                                     True  Denver Nuggets   \n",
       "2                                                      NaN  Denver Nuggets   \n",
       "3  The Denver Nuggets have new colours, updated e...   NaN  Denver Nuggets   \n",
       "4                                                      NaN  Denver Nuggets   \n",
       "\n",
       "         date  weekday  hour  diff    lag      age  \n",
       "0  2002-08-17        5    21   NaN    NaN   0 days  \n",
       "1  2002-10-29        1    13  11.0   73.0  73 days  \n",
       "2  2003-06-04        2    17  24.0  218.0 291 days  \n",
       "3  2003-07-29        1     3 -18.0   55.0 346 days  \n",
       "4  2003-07-29        1     3  44.0    0.0 346 days  "
      ]
     },
     "execution_count": 73,
     "metadata": {},
     "output_type": "execute_result"
    }
   ],
   "source": [
    "den_rev_df[\"age\"] = den_rev_df[\"date\"] - den_rev_df[\"date\"].loc[0]\n",
    "den_rev_df.head()"
   ]
  },
  {
   "cell_type": "markdown",
   "metadata": {},
   "source": [
    "## Step 3: Visualize the revision data\n",
    "\n",
    "### Step 3a: Use the \"hour\" and \"weekday\" columns to make a revision heatmap\n",
    "\n",
    "Use your data reshaping skills like `pivot_table` and read up on how to make a [heatmap in Seaborn](https://seaborn.pydata.org/generated/seaborn.heatmap.html) ([also](https://towardsdatascience.com/heatmap-basics-with-pythons-seaborn-fb92ea280a6c)) showing when revisions on your article tend to happen. Your revision heatmap should have \"weekday\" as columns and \"hour\" as an index and a count of revisions as values."
   ]
  },
  {
   "cell_type": "code",
   "execution_count": 74,
   "metadata": {},
   "outputs": [
    {
     "data": {
      "text/plain": [
       "<AxesSubplot:xlabel='weekday', ylabel='hour'>"
      ]
     },
     "execution_count": 74,
     "metadata": {},
     "output_type": "execute_result"
    },
    {
     "data": {
      "image/png": "[encoded data removed]",
      "text/plain": [
       "<Figure size 432x288 with 2 Axes>"
      ]
     },
     "metadata": {
      "needs_background": "light"
     },
     "output_type": "display_data"
    }
   ],
   "source": [
    "rev_pivot = pd.pivot_table(den_rev_df,\n",
    "                           index=\"hour\",\n",
    "                           columns=\"weekday\",\n",
    "                           values= \"user\",\n",
    "                           aggfunc='count'\n",
    "                                )\n",
    "sb.heatmap(rev_pivot)"
   ]
  },
  {
   "cell_type": "markdown",
   "metadata": {},
   "source": [
    "### Step 3b: Interpret and summarize some interesting features about the revision heatmap\n",
    "\n",
    "During what part of the day and week are most revisions to this article made? Is this surprising or expected? What kinds of mechanisms social conventions for time could explain why there is or is not a clear pattern? If you had to tell someone to give you a report on the state of the article every week, when should they look at the article?"
   ]
  },
  {
   "cell_type": "markdown",
   "metadata": {},
   "source": [
    "The most popular time for revisions was Friday night at 6:00. Perhaps this was when one person would do their weekly update of the page. Otherwise, the most popular times are during the evening from 5 to 4 in the morning. It is very interesting that the revisions are so popular so early in the morning/late at night. I anticipate that this is much different than most Wikipedia articles. This behavioral nature is most likely due to the fact that basketball teams play nightly games so their pages can be updated every night when the game finishes."
   ]
  },
  {
   "cell_type": "markdown",
   "metadata": {},
   "source": [
    "### Step 3c: Make a line plot of the number of revisions over time\n",
    "\n",
    "Use pandas's groupby, reindex, and/or resample functionality to count the number of revisions by day. Make sure that the date range is continuous without gaps and dates without revision activity have an appropriate value. Plot the data."
   ]
  },
  {
   "cell_type": "code",
   "execution_count": 75,
   "metadata": {},
   "outputs": [
    {
     "data": {
      "text/plain": [
       "<AxesSubplot:xlabel='timestamp'>"
      ]
     },
     "execution_count": 75,
     "metadata": {},
     "output_type": "execute_result"
    },
    {
     "data": {
      "image/png": "[encoded data removed]",
      "text/plain": [
       "<Figure size 432x288 with 1 Axes>"
      ]
     },
     "metadata": {
      "needs_background": "light"
     },
     "output_type": "display_data"
    }
   ],
   "source": [
    "gb_date = den_rev_df.groupby(pd.Grouper(key=\"timestamp\",freq=\"D\")).agg({\"user\":\"count\"})\n",
    "gb_date.plot()"
   ]
  },
  {
   "cell_type": "markdown",
   "metadata": {},
   "source": [
    "### Step 3d: Interpret and summarize some interesting features about the revision activity line plot\n",
    "\n",
    "Are there any trends of increasing or decreasing revision activity? Are there any instances of \"bursts\" of revision activity? If so, do these bursts correspond to meaningful events in the \"real\" world?"
   ]
  },
  {
   "cell_type": "markdown",
   "metadata": {},
   "source": [
    "There seem to be a lot of bursts every year. I anticipate that this is from when the Nuggets get a new player, their season recently finishes, or they get a new head coach. These are common things that would require an update to the wikipedia page. It is hard to say exactly what the bursts were from because there are so many. This data does surprise though because there is a constant stream of updates everyday, even during the offseason. I expected a much more cyclical looking graph. However, on this graph it is hard to even determine when the offseason is."
   ]
  },
  {
   "cell_type": "markdown",
   "metadata": {},
   "source": [
    "### Step 3e: Make a scatter plot of \"lag\" and \"diff\"\n",
    "\n",
    "Make a scatterplot with the \"lag\" column on the x-axis and the \"diff\" column on the y-axis."
   ]
  },
  {
   "cell_type": "code",
   "execution_count": 76,
   "metadata": {},
   "outputs": [
    {
     "data": {
      "text/plain": [
       "<AxesSubplot:xlabel='lag', ylabel='diff'>"
      ]
     },
     "execution_count": 76,
     "metadata": {},
     "output_type": "execute_result"
    },
    {
     "data": {
      "image/png": "[encoded data removed]",
      "text/plain": [
       "<Figure size 432x288 with 1 Axes>"
      ]
     },
     "metadata": {
      "needs_background": "light"
     },
     "output_type": "display_data"
    }
   ],
   "source": [
    "sb.scatterplot(data=den_rev_df, x=\"lag\",y=\"diff\")"
   ]
  },
  {
   "cell_type": "markdown",
   "metadata": {},
   "source": [
    "### Step 3f: Interpret and summarize some interesting features about the lag-diff scatter plot"
   ]
  },
  {
   "cell_type": "markdown",
   "metadata": {},
   "source": [
    "Why are the diff values so abnormally large? Let's investigate"
   ]
  },
  {
   "cell_type": "code",
   "execution_count": 77,
   "metadata": {},
   "outputs": [
    {
     "data": {
      "text/plain": [
       "3006   -48296.0\n",
       "3002   -48283.0\n",
       "3014   -48269.0\n",
       "1797   -47192.0\n",
       "1795   -47175.0\n",
       "         ...   \n",
       "1798    47192.0\n",
       "3015    48269.0\n",
       "3003    48283.0\n",
       "3007    48296.0\n",
       "0           NaN\n",
       "Name: diff, Length: 3349, dtype: float64"
      ]
     },
     "execution_count": 77,
     "metadata": {},
     "output_type": "execute_result"
    }
   ],
   "source": [
    "den_rev_df[\"diff\"].sort_values()"
   ]
  },
  {
   "cell_type": "markdown",
   "metadata": {},
   "source": [
    "Here we can see that what probably occured was a few users who would completely delete everything on the wikipedia page and then someone quickly coming in and fixing the information."
   ]
  },
  {
   "cell_type": "markdown",
   "metadata": {},
   "source": [
    "## Step 4: Retrieve the pageviews for a single article"
   ]
  },
  {
   "cell_type": "markdown",
   "metadata": {},
   "source": [
    "### Step 4a: Use the `get_pageviews` function on your article"
   ]
  },
  {
   "cell_type": "code",
   "execution_count": 96,
   "metadata": {},
   "outputs": [],
   "source": [
    "den_pv_df = get_pageviews('Denver Nuggets')\n",
    "den_pv_df = den_pv_df.to_frame()"
   ]
  },
  {
   "cell_type": "code",
   "execution_count": 97,
   "metadata": {},
   "outputs": [
    {
     "data": {
      "text/html": [
       "<div>\n",
       "<style scoped>\n",
       "    .dataframe tbody tr th:only-of-type {\n",
       "        vertical-align: middle;\n",
       "    }\n",
       "\n",
       "    .dataframe tbody tr th {\n",
       "        vertical-align: top;\n",
       "    }\n",
       "\n",
       "    .dataframe thead th {\n",
       "        text-align: right;\n",
       "    }\n",
       "</style>\n",
       "<table border=\"1\" class=\"dataframe\">\n",
       "  <thead>\n",
       "    <tr style=\"text-align: right;\">\n",
       "      <th></th>\n",
       "      <th>views</th>\n",
       "    </tr>\n",
       "    <tr>\n",
       "      <th>timestamp</th>\n",
       "      <th></th>\n",
       "    </tr>\n",
       "  </thead>\n",
       "  <tbody>\n",
       "    <tr>\n",
       "      <th>2015-07-01</th>\n",
       "      <td>1268</td>\n",
       "    </tr>\n",
       "    <tr>\n",
       "      <th>2015-07-02</th>\n",
       "      <td>1250</td>\n",
       "    </tr>\n",
       "    <tr>\n",
       "      <th>2015-07-03</th>\n",
       "      <td>1252</td>\n",
       "    </tr>\n",
       "    <tr>\n",
       "      <th>2015-07-04</th>\n",
       "      <td>1165</td>\n",
       "    </tr>\n",
       "    <tr>\n",
       "      <th>2015-07-05</th>\n",
       "      <td>1151</td>\n",
       "    </tr>\n",
       "    <tr>\n",
       "      <th>...</th>\n",
       "      <td>...</td>\n",
       "    </tr>\n",
       "    <tr>\n",
       "      <th>2020-10-07</th>\n",
       "      <td>1296</td>\n",
       "    </tr>\n",
       "    <tr>\n",
       "      <th>2020-10-08</th>\n",
       "      <td>884</td>\n",
       "    </tr>\n",
       "    <tr>\n",
       "      <th>2020-10-09</th>\n",
       "      <td>813</td>\n",
       "    </tr>\n",
       "    <tr>\n",
       "      <th>2020-10-10</th>\n",
       "      <td>1025</td>\n",
       "    </tr>\n",
       "    <tr>\n",
       "      <th>2020-10-11</th>\n",
       "      <td>867</td>\n",
       "    </tr>\n",
       "  </tbody>\n",
       "</table>\n",
       "<p>1930 rows × 1 columns</p>\n",
       "</div>"
      ],
      "text/plain": [
       "            views\n",
       "timestamp        \n",
       "2015-07-01   1268\n",
       "2015-07-02   1250\n",
       "2015-07-03   1252\n",
       "2015-07-04   1165\n",
       "2015-07-05   1151\n",
       "...           ...\n",
       "2020-10-07   1296\n",
       "2020-10-08    884\n",
       "2020-10-09    813\n",
       "2020-10-10   1025\n",
       "2020-10-11    867\n",
       "\n",
       "[1930 rows x 1 columns]"
      ]
     },
     "execution_count": 97,
     "metadata": {},
     "output_type": "execute_result"
    }
   ],
   "source": [
    "pv_date_range = pd.date_range(start=\"2015-07-01\",\n",
    "                             end=\"2020-10-01\",\n",
    "                             freq=\"D\")\n",
    "den_pv_df"
   ]
  },
  {
   "cell_type": "markdown",
   "metadata": {},
   "source": [
    "### Step 4b: Inspect the top and print out the number of pageview observations"
   ]
  },
  {
   "cell_type": "code",
   "execution_count": 98,
   "metadata": {},
   "outputs": [
    {
     "data": {
      "text/html": [
       "<div>\n",
       "<style scoped>\n",
       "    .dataframe tbody tr th:only-of-type {\n",
       "        vertical-align: middle;\n",
       "    }\n",
       "\n",
       "    .dataframe tbody tr th {\n",
       "        vertical-align: top;\n",
       "    }\n",
       "\n",
       "    .dataframe thead th {\n",
       "        text-align: right;\n",
       "    }\n",
       "</style>\n",
       "<table border=\"1\" class=\"dataframe\">\n",
       "  <thead>\n",
       "    <tr style=\"text-align: right;\">\n",
       "      <th></th>\n",
       "      <th>views</th>\n",
       "    </tr>\n",
       "    <tr>\n",
       "      <th>timestamp</th>\n",
       "      <th></th>\n",
       "    </tr>\n",
       "  </thead>\n",
       "  <tbody>\n",
       "    <tr>\n",
       "      <th>2015-07-01</th>\n",
       "      <td>1268</td>\n",
       "    </tr>\n",
       "    <tr>\n",
       "      <th>2015-07-02</th>\n",
       "      <td>1250</td>\n",
       "    </tr>\n",
       "    <tr>\n",
       "      <th>2015-07-03</th>\n",
       "      <td>1252</td>\n",
       "    </tr>\n",
       "    <tr>\n",
       "      <th>2015-07-04</th>\n",
       "      <td>1165</td>\n",
       "    </tr>\n",
       "    <tr>\n",
       "      <th>2015-07-05</th>\n",
       "      <td>1151</td>\n",
       "    </tr>\n",
       "  </tbody>\n",
       "</table>\n",
       "</div>"
      ],
      "text/plain": [
       "            views\n",
       "timestamp        \n",
       "2015-07-01   1268\n",
       "2015-07-02   1250\n",
       "2015-07-03   1252\n",
       "2015-07-04   1165\n",
       "2015-07-05   1151"
      ]
     },
     "execution_count": 98,
     "metadata": {},
     "output_type": "execute_result"
    }
   ],
   "source": [
    "den_pv_df.head()"
   ]
  },
  {
   "cell_type": "code",
   "execution_count": 99,
   "metadata": {},
   "outputs": [
    {
     "data": {
      "text/plain": [
       "(1930, 1)"
      ]
     },
     "execution_count": 99,
     "metadata": {},
     "output_type": "execute_result"
    }
   ],
   "source": [
    "den_pv_df.shape"
   ]
  },
  {
   "cell_type": "code",
   "execution_count": 100,
   "metadata": {},
   "outputs": [
    {
     "data": {
      "text/plain": [
       "views    2609715\n",
       "dtype: int64"
      ]
     },
     "execution_count": 100,
     "metadata": {},
     "output_type": "execute_result"
    }
   ],
   "source": [
    "den_pv_df.sum()"
   ]
  },
  {
   "cell_type": "markdown",
   "metadata": {},
   "source": [
    "### Step 4c: Make sure the time variables are `Timestamp`s"
   ]
  },
  {
   "cell_type": "code",
   "execution_count": 101,
   "metadata": {},
   "outputs": [],
   "source": [
    "den_pv_df.index = pd.to_datetime(den_pv_df.index)"
   ]
  },
  {
   "cell_type": "markdown",
   "metadata": {},
   "source": [
    "### Step 4d: What date had the most pageviews? The fewest?"
   ]
  },
  {
   "cell_type": "code",
   "execution_count": 106,
   "metadata": {},
   "outputs": [
    {
     "data": {
      "text/html": [
       "<div>\n",
       "<style scoped>\n",
       "    .dataframe tbody tr th:only-of-type {\n",
       "        vertical-align: middle;\n",
       "    }\n",
       "\n",
       "    .dataframe tbody tr th {\n",
       "        vertical-align: top;\n",
       "    }\n",
       "\n",
       "    .dataframe thead th {\n",
       "        text-align: right;\n",
       "    }\n",
       "</style>\n",
       "<table border=\"1\" class=\"dataframe\">\n",
       "  <thead>\n",
       "    <tr style=\"text-align: right;\">\n",
       "      <th></th>\n",
       "      <th>views</th>\n",
       "    </tr>\n",
       "    <tr>\n",
       "      <th>timestamp</th>\n",
       "      <th></th>\n",
       "    </tr>\n",
       "  </thead>\n",
       "  <tbody>\n",
       "    <tr>\n",
       "      <th>2015-08-29</th>\n",
       "      <td>557</td>\n",
       "    </tr>\n",
       "  </tbody>\n",
       "</table>\n",
       "</div>"
      ],
      "text/plain": [
       "            views\n",
       "timestamp        \n",
       "2015-08-29    557"
      ]
     },
     "execution_count": 106,
     "metadata": {},
     "output_type": "execute_result"
    }
   ],
   "source": [
    "# fewest pageviews\n",
    "den_pv_df.sort_values(\"views\").head(1)"
   ]
  },
  {
   "cell_type": "code",
   "execution_count": 107,
   "metadata": {},
   "outputs": [
    {
     "data": {
      "text/html": [
       "<div>\n",
       "<style scoped>\n",
       "    .dataframe tbody tr th:only-of-type {\n",
       "        vertical-align: middle;\n",
       "    }\n",
       "\n",
       "    .dataframe tbody tr th {\n",
       "        vertical-align: top;\n",
       "    }\n",
       "\n",
       "    .dataframe thead th {\n",
       "        text-align: right;\n",
       "    }\n",
       "</style>\n",
       "<table border=\"1\" class=\"dataframe\">\n",
       "  <thead>\n",
       "    <tr style=\"text-align: right;\">\n",
       "      <th></th>\n",
       "      <th>views</th>\n",
       "    </tr>\n",
       "    <tr>\n",
       "      <th>timestamp</th>\n",
       "      <th></th>\n",
       "    </tr>\n",
       "  </thead>\n",
       "  <tbody>\n",
       "    <tr>\n",
       "      <th>2020-09-16</th>\n",
       "      <td>44871</td>\n",
       "    </tr>\n",
       "  </tbody>\n",
       "</table>\n",
       "</div>"
      ],
      "text/plain": [
       "            views\n",
       "timestamp        \n",
       "2020-09-16  44871"
      ]
     },
     "execution_count": 107,
     "metadata": {},
     "output_type": "execute_result"
    }
   ],
   "source": [
    "# most pageviews\n",
    "den_pv_df.sort_values(\"views\",ascending=False).head(1)"
   ]
  },
  {
   "cell_type": "markdown",
   "metadata": {},
   "source": [
    "## Step 5: Visualize pageview data"
   ]
  },
  {
   "cell_type": "markdown",
   "metadata": {},
   "source": [
    "### Step 5a: Make a line plot of the number of pageviews over time"
   ]
  },
  {
   "cell_type": "code",
   "execution_count": 108,
   "metadata": {},
   "outputs": [
    {
     "data": {
      "text/plain": [
       "<AxesSubplot:xlabel='timestamp'>"
      ]
     },
     "execution_count": 108,
     "metadata": {},
     "output_type": "execute_result"
    },
    {
     "data": {
      "image/png": "[encoded data removed]",
      "text/plain": [
       "<Figure size 432x288 with 1 Axes>"
      ]
     },
     "metadata": {
      "needs_background": "light"
     },
     "output_type": "display_data"
    }
   ],
   "source": [
    "den_pv_df.plot()"
   ]
  },
  {
   "cell_type": "code",
   "execution_count": 161,
   "metadata": {},
   "outputs": [
    {
     "data": {
      "text/plain": [
       "<AxesSubplot:xlabel='timestamp'>"
      ]
     },
     "execution_count": 161,
     "metadata": {},
     "output_type": "execute_result"
    },
    {
     "data": {
      "image/png": "[encoded data removed]",
      "text/plain": [
       "<Figure size 432x288 with 1 Axes>"
      ]
     },
     "metadata": {
      "needs_background": "light"
     },
     "output_type": "display_data"
    }
   ],
   "source": [
    "# that plot isn't super helpful besides showing how massive of a burst September 16th, 2020 was \n",
    "# so let's zoom in\n",
    "den_pv_df[:\"2020-09-15\"][\"views\"].plot()"
   ]
  },
  {
   "cell_type": "markdown",
   "metadata": {},
   "source": [
    "### Step 5b: Make a barplot of the pageview activity by day of week"
   ]
  },
  {
   "cell_type": "code",
   "execution_count": 112,
   "metadata": {},
   "outputs": [],
   "source": [
    "den_pv_df[\"weekday\"] = [i.weekday() for i in den_pv_df.index]"
   ]
  },
  {
   "cell_type": "code",
   "execution_count": 121,
   "metadata": {},
   "outputs": [
    {
     "data": {
      "text/plain": [
       "<AxesSubplot:xlabel='weekday'>"
      ]
     },
     "execution_count": 121,
     "metadata": {},
     "output_type": "execute_result"
    },
    {
     "data": {
      "image/png": "[encoded data removed]",
      "text/plain": [
       "<Figure size 720x360 with 1 Axes>"
      ]
     },
     "metadata": {
      "needs_background": "light"
     },
     "output_type": "display_data"
    }
   ],
   "source": [
    "#consulted outside documentation: https://medium.com/@danalindquist/https-medium-com-danalindquist-bar-chart-of-weekly-data-count-using-pandas-5c95a536a08e\n",
    "\n",
    "day_of_week = den_pv_df.groupby(\"weekday\")[\"views\"].sum()\n",
    "day_of_week.plot(kind='bar',figsize=(10,5),legend=None)"
   ]
  },
  {
   "cell_type": "markdown",
   "metadata": {},
   "source": [
    "### Step 5c: Make an autocorrelation plot of the pageview data"
   ]
  },
  {
   "cell_type": "code",
   "execution_count": 122,
   "metadata": {},
   "outputs": [
    {
     "data": {
      "text/plain": [
       "<AxesSubplot:xlabel='Lag', ylabel='Autocorrelation'>"
      ]
     },
     "execution_count": 122,
     "metadata": {},
     "output_type": "execute_result"
    },
    {
     "data": {
      "image/png": "[encoded data removed]",
      "text/plain": [
       "<Figure size 432x288 with 1 Axes>"
      ]
     },
     "metadata": {
      "needs_background": "light"
     },
     "output_type": "display_data"
    }
   ],
   "source": [
    "pd.plotting.autocorrelation_plot(den_pv_df)"
   ]
  },
  {
   "cell_type": "markdown",
   "metadata": {},
   "source": [
    "### Step 5d: Interpret and summarize some interesting features about the pageview behavior"
   ]
  },
  {
   "cell_type": "markdown",
   "metadata": {},
   "source": [
    "I thought it was interesting that Wednesday was the most popular day of the week to view the Nuggets page. I did some research and found out that the most popular day of viewing on September 16, 2020 (when the page got almost 45,000 views) was a Wednesday, which obviously contributes to this discrepancy. Furthermore, I was surprised by how high the autocorrelation is. Additionally, I was surprised by how unseasonal the pageview data was. When plotting the pageviews over time, I expected to see massive decreases in activity during the offseason but they were much more minimal than I thought."
   ]
  },
  {
   "cell_type": "markdown",
   "metadata": {},
   "source": [
    "## Step 6: Combing revision and pageview data"
   ]
  },
  {
   "cell_type": "markdown",
   "metadata": {},
   "source": [
    "### Step 6a: Make a DataFrame containing only daily revision and pageviews"
   ]
  },
  {
   "cell_type": "code",
   "execution_count": 154,
   "metadata": {},
   "outputs": [
    {
     "data": {
      "text/plain": [
       "1930"
      ]
     },
     "execution_count": 154,
     "metadata": {},
     "output_type": "execute_result"
    }
   ],
   "source": [
    "# I worked for a long time to do this step cleanly, but eventually had to settle for combining the data\n",
    "# this way\n",
    "\n",
    "revisions = gb_date.loc[\"2015-07-01\":\"2020-10-11\"] # had to manually put an end date because it was\n",
    "                                                    # too long for my pageview data\n",
    "len([i for i in revisions[\"user\"]])"
   ]
  },
  {
   "cell_type": "code",
   "execution_count": 153,
   "metadata": {},
   "outputs": [
    {
     "data": {
      "text/plain": [
       "timestamp\n",
       "2015-07-01    1268\n",
       "2015-07-02    1250\n",
       "2015-07-03    1252\n",
       "2015-07-04    1165\n",
       "2015-07-05    1151\n",
       "              ... \n",
       "2020-10-07    1296\n",
       "2020-10-08     884\n",
       "2020-10-09     813\n",
       "2020-10-10    1025\n",
       "2020-10-11     867\n",
       "Name: views, Length: 1930, dtype: int64"
      ]
     },
     "execution_count": 153,
     "metadata": {},
     "output_type": "execute_result"
    }
   ],
   "source": [
    "den_pv_df[\"views\"]"
   ]
  },
  {
   "cell_type": "code",
   "execution_count": 163,
   "metadata": {},
   "outputs": [
    {
     "data": {
      "text/html": [
       "<div>\n",
       "<style scoped>\n",
       "    .dataframe tbody tr th:only-of-type {\n",
       "        vertical-align: middle;\n",
       "    }\n",
       "\n",
       "    .dataframe tbody tr th {\n",
       "        vertical-align: top;\n",
       "    }\n",
       "\n",
       "    .dataframe thead th {\n",
       "        text-align: right;\n",
       "    }\n",
       "</style>\n",
       "<table border=\"1\" class=\"dataframe\">\n",
       "  <thead>\n",
       "    <tr style=\"text-align: right;\">\n",
       "      <th></th>\n",
       "      <th>views</th>\n",
       "      <th>revisions</th>\n",
       "    </tr>\n",
       "    <tr>\n",
       "      <th>timestamp</th>\n",
       "      <th></th>\n",
       "      <th></th>\n",
       "    </tr>\n",
       "  </thead>\n",
       "  <tbody>\n",
       "    <tr>\n",
       "      <th>2015-07-01</th>\n",
       "      <td>1268</td>\n",
       "      <td>13</td>\n",
       "    </tr>\n",
       "    <tr>\n",
       "      <th>2015-07-02</th>\n",
       "      <td>1250</td>\n",
       "      <td>1</td>\n",
       "    </tr>\n",
       "    <tr>\n",
       "      <th>2015-07-03</th>\n",
       "      <td>1252</td>\n",
       "      <td>8</td>\n",
       "    </tr>\n",
       "    <tr>\n",
       "      <th>2015-07-04</th>\n",
       "      <td>1165</td>\n",
       "      <td>0</td>\n",
       "    </tr>\n",
       "    <tr>\n",
       "      <th>2015-07-05</th>\n",
       "      <td>1151</td>\n",
       "      <td>2</td>\n",
       "    </tr>\n",
       "  </tbody>\n",
       "</table>\n",
       "</div>"
      ],
      "text/plain": [
       "            views  revisions\n",
       "timestamp                   \n",
       "2015-07-01   1268         13\n",
       "2015-07-02   1250          1\n",
       "2015-07-03   1252          8\n",
       "2015-07-04   1165          0\n",
       "2015-07-05   1151          2"
      ]
     },
     "execution_count": 163,
     "metadata": {},
     "output_type": "execute_result"
    }
   ],
   "source": [
    "combined_df = den_pv_df[\"views\"]\n",
    "combined_df = combined_df.to_frame()\n",
    "combined_df[\"revisions\"] = [i for i in revisions[\"user\"]]\n",
    "combined_df.head()"
   ]
  },
  {
   "cell_type": "markdown",
   "metadata": {},
   "source": [
    "### Step 6b: Plot both these time series on the same figure\n",
    "\n",
    "Use good visualization practices to ensure that a reader can identify meaningful variability in both. See using [Scales](https://pandas.pydata.org/pandas-docs/stable/user_guide/visualization.html#scales), [Plotting on a secondary y-axis](https://pandas.pydata.org/pandas-docs/stable/user_guide/visualization.html#plotting-on-a-secondary-y-axis), or [Subplots](https://pandas.pydata.org/pandas-docs/stable/user_guide/visualization.html#subplots) for ideas."
   ]
  },
  {
   "cell_type": "code",
   "execution_count": 158,
   "metadata": {},
   "outputs": [
    {
     "data": {
      "text/plain": [
       "<matplotlib.legend.Legend at 0x1a25389950>"
      ]
     },
     "execution_count": 158,
     "metadata": {},
     "output_type": "execute_result"
    },
    {
     "data": {
      "image/png": "[encoded data removed]",
      "text/plain": [
       "<Figure size 432x288 with 2 Axes>"
      ]
     },
     "metadata": {
      "needs_background": "light"
     },
     "output_type": "display_data"
    }
   ],
   "source": [
    "combined_df[\"revisions\"].plot()\n",
    "combined_df[\"views\"].plot(secondary_y=True)\n",
    "plt.legend()"
   ]
  },
  {
   "cell_type": "code",
   "execution_count": 159,
   "metadata": {},
   "outputs": [
    {
     "data": {
      "text/plain": [
       "<AxesSubplot:xlabel='timestamp'>"
      ]
     },
     "execution_count": 159,
     "metadata": {},
     "output_type": "execute_result"
    },
    {
     "data": {
      "image/png": "[encoded data removed]",
      "text/plain": [
       "<Figure size 432x288 with 1 Axes>"
      ]
     },
     "metadata": {
      "needs_background": "light"
     },
     "output_type": "display_data"
    }
   ],
   "source": [
    "combined_df.plot(logy=True)"
   ]
  },
  {
   "cell_type": "markdown",
   "metadata": {},
   "source": [
    "### Step 6c: Interpret and summarize some interesting features about revision and pageview behavior"
   ]
  },
  {
   "cell_type": "markdown",
   "metadata": {},
   "source": [
    "As expected, there tends to be a increase in revisions at the same time as there is an increase in pageviews. This makes logical sense because whenever a big event happens for the franchise, people will want to update the page and view the page. However, just because there is a massive increase in views does not necessarily mean there will be a massive increase in revisions. There is only so much data to be updated. For example, on September 16th, 2020 there were almost 45,000 pageviews but only 9 revisions."
   ]
  },
  {
   "cell_type": "markdown",
   "metadata": {},
   "source": [
    "### Step 6d: Revisit your research question/hypotheses/motivation and discuss in light of your findings"
   ]
  },
  {
   "cell_type": "markdown",
   "metadata": {},
   "source": [
    "My research hypothesis proved to be correct in that there was a massive surge in the Denver Nuggets page over the course of this playoff run. This proved to be especially true on September 16th when the Nuggets defeated the Los Angeles Clippers in a game 7 to advance Denver to the Western Confernece Finals. This was a big upset which as a result garnered a lot of attention as evident in the pageview data. Other than this specific day though there was not too big of an increase in pageview data over the playoff run. I expected a general incline in pageviews during August and September but there really wasn't that large of an increase. I suppose that big increases in Wikipedia pageviews tend to come from large one-time events as opposed to over time repeated \"success\". "
   ]
  },
  {
   "cell_type": "markdown",
   "metadata": {},
   "source": [
    "In the future I would want to use some of the forecasting tools we have learned in class on this data to see what the models predict future pageview data would look like."
   ]
  }
 ],
 "metadata": {
  "kernelspec": {
   "display_name": "Python 3",
   "language": "python",
   "name": "python3"
  },
  "language_info": {
   "codemirror_mode": {
    "name": "ipython",
    "version": 3
   },
   "file_extension": ".py",
   "mimetype": "text/x-python",
   "name": "python",
   "nbconvert_exporter": "python",
   "pygments_lexer": "ipython3",
   "version": "3.7.9"
  }
 },
 "nbformat": 4,
 "nbformat_minor": 4
}
